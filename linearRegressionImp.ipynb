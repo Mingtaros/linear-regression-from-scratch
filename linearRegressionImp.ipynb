{
 "cells": [
  {
   "cell_type": "markdown",
   "metadata": {},
   "source": [
    "# Linear Regression"
   ]
  },
  {
   "cell_type": "markdown",
   "metadata": {},
   "source": [
    "This is a project running multiple linear regression algorithm that will form a prediction of y axis using several variables as x axis.\n",
    "Multiple linear regression attempts to model the relationship between two or more explanatory variables and a response variable by fitting a linear equation to observed data. Every value of the independent variable x is associated with a value of the dependent variable y. "
   ]
  },
  {
   "cell_type": "code",
   "execution_count": 3,
   "metadata": {},
   "outputs": [],
   "source": [
    "using DataFrames, CSV\n",
    "using Plots\n",
    "pyplot();"
   ]
  },
  {
   "cell_type": "markdown",
   "metadata": {},
   "source": [
    "## Data\n",
    "Loading the csv data, we are using car_data.csv that can be obtained from https://www.kaggle.com/nehalbirla/vehicle-dataset-from-cardekho"
   ]
  },
  {
   "cell_type": "code",
   "execution_count": 4,
   "metadata": {},
   "outputs": [
    {
     "data": {
      "text/html": [
       "<table class=\"data-frame\"><thead><tr><th></th><th>Car_Name</th><th>Year</th><th>Selling_Price</th><th>Present_Price</th><th>Kms_Driven</th><th>Fuel_Type</th><th>Seller_Type</th></tr><tr><th></th><th>String</th><th>Int64</th><th>Float64</th><th>Float64</th><th>Int64</th><th>String</th><th>String</th></tr></thead><tbody><p>6 rows × 9 columns (omitted printing of 2 columns)</p><tr><th>1</th><td>ritz</td><td>2014</td><td>3.35</td><td>5.59</td><td>27000</td><td>Petrol</td><td>Dealer</td></tr><tr><th>2</th><td>sx4</td><td>2013</td><td>4.75</td><td>9.54</td><td>43000</td><td>Diesel</td><td>Dealer</td></tr><tr><th>3</th><td>ciaz</td><td>2017</td><td>7.25</td><td>9.85</td><td>6900</td><td>Petrol</td><td>Dealer</td></tr><tr><th>4</th><td>wagon r</td><td>2011</td><td>2.85</td><td>4.15</td><td>5200</td><td>Petrol</td><td>Dealer</td></tr><tr><th>5</th><td>swift</td><td>2014</td><td>4.6</td><td>6.87</td><td>42450</td><td>Diesel</td><td>Dealer</td></tr><tr><th>6</th><td>vitara brezza</td><td>2018</td><td>9.25</td><td>9.83</td><td>2071</td><td>Diesel</td><td>Dealer</td></tr></tbody></table>"
      ],
      "text/latex": [
       "\\begin{tabular}{r|cccccccc}\n",
       "\t& Car\\_Name & Year & Selling\\_Price & Present\\_Price & Kms\\_Driven & Fuel\\_Type & Seller\\_Type & \\\\\n",
       "\t\\hline\n",
       "\t& String & Int64 & Float64 & Float64 & Int64 & String & String & \\\\\n",
       "\t\\hline\n",
       "\t1 & ritz & 2014 & 3.35 & 5.59 & 27000 & Petrol & Dealer & $\\dots$ \\\\\n",
       "\t2 & sx4 & 2013 & 4.75 & 9.54 & 43000 & Diesel & Dealer & $\\dots$ \\\\\n",
       "\t3 & ciaz & 2017 & 7.25 & 9.85 & 6900 & Petrol & Dealer & $\\dots$ \\\\\n",
       "\t4 & wagon r & 2011 & 2.85 & 4.15 & 5200 & Petrol & Dealer & $\\dots$ \\\\\n",
       "\t5 & swift & 2014 & 4.6 & 6.87 & 42450 & Diesel & Dealer & $\\dots$ \\\\\n",
       "\t6 & vitara brezza & 2018 & 9.25 & 9.83 & 2071 & Diesel & Dealer & $\\dots$ \\\\\n",
       "\\end{tabular}\n"
      ],
      "text/plain": [
       "6×9 DataFrame. Omitted printing of 4 columns\n",
       "│ Row │ Car_Name      │ Year  │ Selling_Price │ Present_Price │ Kms_Driven │\n",
       "│     │ \u001b[90mString\u001b[39m        │ \u001b[90mInt64\u001b[39m │ \u001b[90mFloat64\u001b[39m       │ \u001b[90mFloat64\u001b[39m       │ \u001b[90mInt64\u001b[39m      │\n",
       "├─────┼───────────────┼───────┼───────────────┼───────────────┼────────────┤\n",
       "│ 1   │ ritz          │ 2014  │ 3.35          │ 5.59          │ 27000      │\n",
       "│ 2   │ sx4           │ 2013  │ 4.75          │ 9.54          │ 43000      │\n",
       "│ 3   │ ciaz          │ 2017  │ 7.25          │ 9.85          │ 6900       │\n",
       "│ 4   │ wagon r       │ 2011  │ 2.85          │ 4.15          │ 5200       │\n",
       "│ 5   │ swift         │ 2014  │ 4.6           │ 6.87          │ 42450      │\n",
       "│ 6   │ vitara brezza │ 2018  │ 9.25          │ 9.83          │ 2071       │"
      ]
     },
     "execution_count": 4,
     "metadata": {},
     "output_type": "execute_result"
    }
   ],
   "source": [
    "data = CSV.read(\"car_data.csv\");\n",
    "first(data,6)"
   ]
  },
  {
   "cell_type": "markdown",
   "metadata": {},
   "source": [
    "## Splitting Dataset\n",
    "The data we already obtained needs to be splitted into training set and test set which can be described as:\n",
    "training set—a subset to train a model.\n",
    "test set—a subset to test the trained model."
   ]
  },
  {
   "cell_type": "code",
   "execution_count": 5,
   "metadata": {},
   "outputs": [
    {
     "data": {
      "text/html": [
       "<table class=\"data-frame\"><thead><tr><th></th><th>Car_Name</th><th>Year</th><th>Selling_Price</th><th>Present_Price</th><th>Kms_Driven</th><th>Fuel_Type</th><th>Seller_Type</th></tr><tr><th></th><th>String</th><th>Int64</th><th>Float64</th><th>Float64</th><th>Int64</th><th>String</th><th>String</th></tr></thead><tbody><p>61 rows × 9 columns (omitted printing of 2 columns)</p><tr><th>1</th><td>verna</td><td>2012</td><td>5.35</td><td>9.4</td><td>32322</td><td>Diesel</td><td>Dealer</td></tr><tr><th>2</th><td>xcent</td><td>2015</td><td>4.75</td><td>7.13</td><td>35866</td><td>Petrol</td><td>Dealer</td></tr><tr><th>3</th><td>xcent</td><td>2014</td><td>4.4</td><td>7.13</td><td>34000</td><td>Petrol</td><td>Dealer</td></tr><tr><th>4</th><td>i20</td><td>2016</td><td>6.25</td><td>7.6</td><td>7000</td><td>Petrol</td><td>Dealer</td></tr><tr><th>5</th><td>verna</td><td>2013</td><td>5.95</td><td>9.4</td><td>49000</td><td>Diesel</td><td>Dealer</td></tr><tr><th>6</th><td>verna</td><td>2012</td><td>5.2</td><td>9.4</td><td>71000</td><td>Diesel</td><td>Dealer</td></tr><tr><th>7</th><td>i20</td><td>2012</td><td>3.75</td><td>6.79</td><td>35000</td><td>Petrol</td><td>Dealer</td></tr><tr><th>8</th><td>verna</td><td>2015</td><td>5.95</td><td>9.4</td><td>36000</td><td>Petrol</td><td>Dealer</td></tr><tr><th>9</th><td>i10</td><td>2013</td><td>4.0</td><td>4.6</td><td>30000</td><td>Petrol</td><td>Dealer</td></tr><tr><th>10</th><td>i20</td><td>2016</td><td>5.25</td><td>7.6</td><td>17000</td><td>Petrol</td><td>Dealer</td></tr><tr><th>11</th><td>creta</td><td>2016</td><td>12.9</td><td>13.6</td><td>35934</td><td>Diesel</td><td>Dealer</td></tr><tr><th>12</th><td>city</td><td>2013</td><td>5.0</td><td>9.9</td><td>56701</td><td>Petrol</td><td>Dealer</td></tr><tr><th>13</th><td>brio</td><td>2015</td><td>5.4</td><td>6.82</td><td>31427</td><td>Petrol</td><td>Dealer</td></tr><tr><th>14</th><td>city</td><td>2014</td><td>7.2</td><td>9.9</td><td>48000</td><td>Diesel</td><td>Dealer</td></tr><tr><th>15</th><td>city</td><td>2013</td><td>5.25</td><td>9.9</td><td>54242</td><td>Petrol</td><td>Dealer</td></tr><tr><th>16</th><td>brio</td><td>2012</td><td>3.0</td><td>5.35</td><td>53675</td><td>Petrol</td><td>Dealer</td></tr><tr><th>17</th><td>city</td><td>2016</td><td>10.25</td><td>13.6</td><td>49562</td><td>Petrol</td><td>Dealer</td></tr><tr><th>18</th><td>city</td><td>2015</td><td>8.5</td><td>13.6</td><td>40324</td><td>Petrol</td><td>Dealer</td></tr><tr><th>19</th><td>city</td><td>2015</td><td>8.4</td><td>13.6</td><td>25000</td><td>Petrol</td><td>Dealer</td></tr><tr><th>20</th><td>amaze</td><td>2014</td><td>3.9</td><td>7.0</td><td>36054</td><td>Petrol</td><td>Dealer</td></tr><tr><th>21</th><td>city</td><td>2016</td><td>9.15</td><td>13.6</td><td>29223</td><td>Petrol</td><td>Dealer</td></tr><tr><th>22</th><td>brio</td><td>2016</td><td>5.5</td><td>5.97</td><td>5600</td><td>Petrol</td><td>Dealer</td></tr><tr><th>23</th><td>amaze</td><td>2015</td><td>4.0</td><td>5.8</td><td>40023</td><td>Petrol</td><td>Dealer</td></tr><tr><th>24</th><td>jazz</td><td>2016</td><td>6.6</td><td>7.7</td><td>16002</td><td>Petrol</td><td>Dealer</td></tr><tr><th>25</th><td>amaze</td><td>2015</td><td>4.0</td><td>7.0</td><td>40026</td><td>Petrol</td><td>Dealer</td></tr><tr><th>26</th><td>jazz</td><td>2017</td><td>6.5</td><td>8.7</td><td>21200</td><td>Petrol</td><td>Dealer</td></tr><tr><th>27</th><td>amaze</td><td>2014</td><td>3.65</td><td>7.0</td><td>35000</td><td>Petrol</td><td>Dealer</td></tr><tr><th>28</th><td>city</td><td>2016</td><td>8.35</td><td>9.4</td><td>19434</td><td>Diesel</td><td>Dealer</td></tr><tr><th>29</th><td>brio</td><td>2017</td><td>4.8</td><td>5.8</td><td>19000</td><td>Petrol</td><td>Dealer</td></tr><tr><th>30</th><td>city</td><td>2015</td><td>6.7</td><td>10.0</td><td>18828</td><td>Petrol</td><td>Dealer</td></tr><tr><th>&vellip;</th><td>&vellip;</td><td>&vellip;</td><td>&vellip;</td><td>&vellip;</td><td>&vellip;</td><td>&vellip;</td><td>&vellip;</td></tr></tbody></table>"
      ],
      "text/latex": [
       "\\begin{tabular}{r|cccccccc}\n",
       "\t& Car\\_Name & Year & Selling\\_Price & Present\\_Price & Kms\\_Driven & Fuel\\_Type & Seller\\_Type & \\\\\n",
       "\t\\hline\n",
       "\t& String & Int64 & Float64 & Float64 & Int64 & String & String & \\\\\n",
       "\t\\hline\n",
       "\t1 & verna & 2012 & 5.35 & 9.4 & 32322 & Diesel & Dealer & $\\dots$ \\\\\n",
       "\t2 & xcent & 2015 & 4.75 & 7.13 & 35866 & Petrol & Dealer & $\\dots$ \\\\\n",
       "\t3 & xcent & 2014 & 4.4 & 7.13 & 34000 & Petrol & Dealer & $\\dots$ \\\\\n",
       "\t4 & i20 & 2016 & 6.25 & 7.6 & 7000 & Petrol & Dealer & $\\dots$ \\\\\n",
       "\t5 & verna & 2013 & 5.95 & 9.4 & 49000 & Diesel & Dealer & $\\dots$ \\\\\n",
       "\t6 & verna & 2012 & 5.2 & 9.4 & 71000 & Diesel & Dealer & $\\dots$ \\\\\n",
       "\t7 & i20 & 2012 & 3.75 & 6.79 & 35000 & Petrol & Dealer & $\\dots$ \\\\\n",
       "\t8 & verna & 2015 & 5.95 & 9.4 & 36000 & Petrol & Dealer & $\\dots$ \\\\\n",
       "\t9 & i10 & 2013 & 4.0 & 4.6 & 30000 & Petrol & Dealer & $\\dots$ \\\\\n",
       "\t10 & i20 & 2016 & 5.25 & 7.6 & 17000 & Petrol & Dealer & $\\dots$ \\\\\n",
       "\t11 & creta & 2016 & 12.9 & 13.6 & 35934 & Diesel & Dealer & $\\dots$ \\\\\n",
       "\t12 & city & 2013 & 5.0 & 9.9 & 56701 & Petrol & Dealer & $\\dots$ \\\\\n",
       "\t13 & brio & 2015 & 5.4 & 6.82 & 31427 & Petrol & Dealer & $\\dots$ \\\\\n",
       "\t14 & city & 2014 & 7.2 & 9.9 & 48000 & Diesel & Dealer & $\\dots$ \\\\\n",
       "\t15 & city & 2013 & 5.25 & 9.9 & 54242 & Petrol & Dealer & $\\dots$ \\\\\n",
       "\t16 & brio & 2012 & 3.0 & 5.35 & 53675 & Petrol & Dealer & $\\dots$ \\\\\n",
       "\t17 & city & 2016 & 10.25 & 13.6 & 49562 & Petrol & Dealer & $\\dots$ \\\\\n",
       "\t18 & city & 2015 & 8.5 & 13.6 & 40324 & Petrol & Dealer & $\\dots$ \\\\\n",
       "\t19 & city & 2015 & 8.4 & 13.6 & 25000 & Petrol & Dealer & $\\dots$ \\\\\n",
       "\t20 & amaze & 2014 & 3.9 & 7.0 & 36054 & Petrol & Dealer & $\\dots$ \\\\\n",
       "\t21 & city & 2016 & 9.15 & 13.6 & 29223 & Petrol & Dealer & $\\dots$ \\\\\n",
       "\t22 & brio & 2016 & 5.5 & 5.97 & 5600 & Petrol & Dealer & $\\dots$ \\\\\n",
       "\t23 & amaze & 2015 & 4.0 & 5.8 & 40023 & Petrol & Dealer & $\\dots$ \\\\\n",
       "\t24 & jazz & 2016 & 6.6 & 7.7 & 16002 & Petrol & Dealer & $\\dots$ \\\\\n",
       "\t25 & amaze & 2015 & 4.0 & 7.0 & 40026 & Petrol & Dealer & $\\dots$ \\\\\n",
       "\t26 & jazz & 2017 & 6.5 & 8.7 & 21200 & Petrol & Dealer & $\\dots$ \\\\\n",
       "\t27 & amaze & 2014 & 3.65 & 7.0 & 35000 & Petrol & Dealer & $\\dots$ \\\\\n",
       "\t28 & city & 2016 & 8.35 & 9.4 & 19434 & Diesel & Dealer & $\\dots$ \\\\\n",
       "\t29 & brio & 2017 & 4.8 & 5.8 & 19000 & Petrol & Dealer & $\\dots$ \\\\\n",
       "\t30 & city & 2015 & 6.7 & 10.0 & 18828 & Petrol & Dealer & $\\dots$ \\\\\n",
       "\t$\\dots$ & $\\dots$ & $\\dots$ & $\\dots$ & $\\dots$ & $\\dots$ & $\\dots$ & $\\dots$ &  \\\\\n",
       "\\end{tabular}\n"
      ],
      "text/plain": [
       "61×9 DataFrame. Omitted printing of 4 columns\n",
       "│ Row │ Car_Name │ Year  │ Selling_Price │ Present_Price │ Kms_Driven │\n",
       "│     │ \u001b[90mString\u001b[39m   │ \u001b[90mInt64\u001b[39m │ \u001b[90mFloat64\u001b[39m       │ \u001b[90mFloat64\u001b[39m       │ \u001b[90mInt64\u001b[39m      │\n",
       "├─────┼──────────┼───────┼───────────────┼───────────────┼────────────┤\n",
       "│ 1   │ verna    │ 2012  │ 5.35          │ 9.4           │ 32322      │\n",
       "│ 2   │ xcent    │ 2015  │ 4.75          │ 7.13          │ 35866      │\n",
       "│ 3   │ xcent    │ 2014  │ 4.4           │ 7.13          │ 34000      │\n",
       "│ 4   │ i20      │ 2016  │ 6.25          │ 7.6           │ 7000       │\n",
       "│ 5   │ verna    │ 2013  │ 5.95          │ 9.4           │ 49000      │\n",
       "│ 6   │ verna    │ 2012  │ 5.2           │ 9.4           │ 71000      │\n",
       "│ 7   │ i20      │ 2012  │ 3.75          │ 6.79          │ 35000      │\n",
       "│ 8   │ verna    │ 2015  │ 5.95          │ 9.4           │ 36000      │\n",
       "│ 9   │ i10      │ 2013  │ 4.0           │ 4.6           │ 30000      │\n",
       "│ 10  │ i20      │ 2016  │ 5.25          │ 7.6           │ 17000      │\n",
       "⋮\n",
       "│ 51  │ amaze    │ 2014  │ 4.5           │ 6.4           │ 19000      │\n",
       "│ 52  │ brio     │ 2015  │ 5.4           │ 6.1           │ 31427      │\n",
       "│ 53  │ jazz     │ 2016  │ 6.4           │ 8.4           │ 12000      │\n",
       "│ 54  │ city     │ 2010  │ 3.25          │ 9.9           │ 38000      │\n",
       "│ 55  │ amaze    │ 2014  │ 3.75          │ 6.8           │ 33019      │\n",
       "│ 56  │ city     │ 2015  │ 8.55          │ 13.09         │ 60076      │\n",
       "│ 57  │ city     │ 2016  │ 9.5           │ 11.6          │ 33988      │\n",
       "│ 58  │ brio     │ 2015  │ 4.0           │ 5.9           │ 60000      │\n",
       "│ 59  │ city     │ 2009  │ 3.35          │ 11.0          │ 87934      │\n",
       "│ 60  │ city     │ 2017  │ 11.5          │ 12.5          │ 9000       │\n",
       "│ 61  │ brio     │ 2016  │ 5.3           │ 5.9           │ 5464       │"
      ]
     },
     "execution_count": 5,
     "metadata": {},
     "output_type": "execute_result"
    }
   ],
   "source": [
    "using LinearAlgebra, Statistics\n",
    "n = size(data, 1)\n",
    "data_train = data[1:(Int(floor(n * 0.8))), :]\n",
    "data_test = data[(Int(floor(n * 0.8)))+1 : n, :]"
   ]
  },
  {
   "cell_type": "markdown",
   "metadata": {},
   "source": [
    "## Regression\n",
    "In this part we are going to call the module that is already created in julia under the name linearRegression.jl. We need to construct the regression first by assigning the data we want to train, the x variables that vary the y variable, and the result array of coefficient (empty for now).\n",
    "This will return an array of coefficients."
   ]
  },
  {
   "cell_type": "code",
   "execution_count": 12,
   "metadata": {},
   "outputs": [
    {
     "name": "stderr",
     "output_type": "stream",
     "text": [
      "WARNING: replacing module linearRegression.\n"
     ]
    },
    {
     "data": {
      "text/plain": [
       "4-element Array{Float64,1}:\n",
       " -925.274168076925\n",
       "    0.4598222362847082\n",
       "    0.5213196599084462\n",
       "   -9.576604798264277e-7"
      ]
     },
     "execution_count": 12,
     "metadata": {},
     "output_type": "execute_result"
    }
   ],
   "source": [
    "include(\"linearRegression.jl\")\n",
    "using .linearRegression\n",
    "\n",
    "regression = linearRegression.linReg(data_train,[\"Year\", \"Present_Price\", \"Kms_Driven\"], \"Selling_Price\",[])\n",
    "linearRegression.lin(regression)"
   ]
  },
  {
   "cell_type": "markdown",
   "metadata": {},
   "source": [
    "## Predictions\n",
    "The array of prediction can be obtained by calling the function predict. "
   ]
  },
  {
   "cell_type": "code",
   "execution_count": 13,
   "metadata": {},
   "outputs": [
    {
     "data": {
      "text/plain": [
       "61-element Array{Float64,1}:\n",
       " 1.0\n",
       " 1.0\n",
       " 1.0\n",
       " 1.0\n",
       " 1.0\n",
       " 1.0\n",
       " 1.0\n",
       " 1.0\n",
       " 1.0\n",
       " 1.0\n",
       " 1.0\n",
       " 1.0\n",
       " 1.0\n",
       " ⋮\n",
       " 1.0\n",
       " 1.0\n",
       " 1.0\n",
       " 1.0\n",
       " 1.0\n",
       " 1.0\n",
       " 1.0\n",
       " 1.0\n",
       " 1.0\n",
       " 1.0\n",
       " 1.0\n",
       " 1.0"
      ]
     },
     "execution_count": 13,
     "metadata": {},
     "output_type": "execute_result"
    }
   ],
   "source": [
    "result = linearRegression.prediction(regression, data_test)\n",
    "factor1=ones(n - Int(floor(n * 0.8)))"
   ]
  },
  {
   "cell_type": "markdown",
   "metadata": {},
   "source": [
    "## Error\n",
    "The accuracy of this algorithm can be obtained from the mean absolute error and the rms error."
   ]
  },
  {
   "cell_type": "code",
   "execution_count": 14,
   "metadata": {},
   "outputs": [
    {
     "name": "stdout",
     "output_type": "stream",
     "text": [
      "Mean absolute error : 0.7599589999550299\n",
      "Root mean square error : 1.030742720713919\n"
     ]
    }
   ],
   "source": [
    "linearRegression.errMeter(regression, result, data_test)"
   ]
  },
  {
   "cell_type": "markdown",
   "metadata": {},
   "source": [
    "## Plotting\n",
    "The visualizations are presented below"
   ]
  },
  {
   "cell_type": "markdown",
   "metadata": {},
   "source": [
    "### Year"
   ]
  },
  {
   "cell_type": "code",
   "execution_count": 9,
   "metadata": {},
   "outputs": [
    {
     "data": {
      "image/png": "[encoded data removed]"
     },
     "execution_count": 9,
     "metadata": {},
     "output_type": "execute_result"
    }
   ],
   "source": [
    "year = data_test[:, \"Year\"]\n",
    "yp = [factor1 year]\n",
    "coYear = yp\\result\n",
    "f1 = coYear[1]*factor1 + coYear[2]*year\n",
    "\n",
    "p1=scatter(year,result, color=:lightgreen, label= \"Actual\")\n",
    "p1=plot!(year,f1,linewidth=1, color=:red,label = \"Prediction\", title=\"Year\")\n",
    "\n",
    "plot(p1)\n"
   ]
  },
  {
   "cell_type": "markdown",
   "metadata": {},
   "source": [
    "### Present Price"
   ]
  },
  {
   "cell_type": "code",
   "execution_count": 10,
   "metadata": {},
   "outputs": [
    {
     "data": {
      "image/png": "[encoded data removed]"
     },
     "execution_count": 10,
     "metadata": {},
     "output_type": "execute_result"
    }
   ],
   "source": [
    "prp = data_test[:, \"Present_Price\"]\n",
    "pp = [factor1 prp]\n",
    "coP = pp\\result\n",
    "f2 = coP[1]*factor1 + coP[2]*prp\n",
    "\n",
    "p2=scatter(prp,result, color=:pink, label= \"Actual\")\n",
    "p2=plot!(prp,f2,linewidth=1, color=:red,label = \"Prediction\", title=\"Present Price\")\n",
    "\n",
    "plot(p2)\n"
   ]
  },
  {
   "cell_type": "markdown",
   "metadata": {},
   "source": [
    "### Kms Driven"
   ]
  },
  {
   "cell_type": "code",
   "execution_count": 11,
   "metadata": {},
   "outputs": [
    {
     "data": {
      "image/png": "[encoded data removed]"
     },
     "execution_count": 11,
     "metadata": {},
     "output_type": "execute_result"
    }
   ],
   "source": [
    "kms = data_test[:, \"Kms_Driven\"]\n",
    "km = [factor1 kms]\n",
    "coK = km\\result\n",
    "f3 = coK[1]*factor1 + coK[2]*kms\n",
    "\n",
    "p3=scatter(kms,result, color=:yellow, label= \"Actual\")\n",
    "p3=plot!(kms,f3,linewidth=1, color=:red,label = \"Prediction\", title=\"Kms Driven\")\n",
    "\n",
    "plot(p3)\n"
   ]
  },
  {
   "cell_type": "code",
   "execution_count": null,
   "metadata": {},
   "outputs": [],
   "source": []
  }
 ],
 "metadata": {
  "kernelspec": {
   "display_name": "Julia 1.4.2",
   "language": "julia",
   "name": "julia-1.4"
  },
  "language_info": {
   "file_extension": ".jl",
   "mimetype": "application/julia",
   "name": "julia",
   "version": "1.4.2"
  }
 },
 "nbformat": 4,
 "nbformat_minor": 4
}
