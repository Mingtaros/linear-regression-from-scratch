{
 "cells": [
  {
   "cell_type": "markdown",
   "metadata": {},
   "source": [
    "# Mengambil data dari csv"
   ]
  },
  {
   "cell_type": "code",
   "execution_count": 27,
   "metadata": {},
   "outputs": [],
   "source": [
    "import pandas as pd\n",
    "import matplotlib.pyplot as plt\n",
    "from sklearn.model_selection import train_test_split\n",
    "import numpy as np\n",
    "from regression import multipleLinearRegression, koefRegression,kualitasRegresi\n",
    "pd.set_option('display.max_rows', None)\n",
    "# nampilin semua row\n",
    "pd.set_option('display.max_columns', None)\n",
    "# nampilin semua kolom\n",
    "pd.set_option('display.width', None)\n",
    "pd.set_option('mode.chained_assignment', None)\n",
    "\n",
    "data = pd.read_csv('car_dataset.csv', delimiter=\",\")"
   ]
  },
  {
   "cell_type": "markdown",
   "metadata": {},
   "source": [
    "# Mengubah beberapa data menjadi numeric"
   ]
  },
  {
   "cell_type": "code",
   "execution_count": 28,
   "metadata": {},
   "outputs": [],
   "source": [
    "# convert to numeric\n",
    "data[[\"Year\", \"Present_Price\", \"Selling_Price\", \"Kms_Driven\",\"Owner\"]] = data[[\n",
    "    \"Year\", \"Present_Price\", \"Selling_Price\", \"Kms_Driven\",\"Owner\"]].apply(pd.to_numeric)"
   ]
  },
  {
   "cell_type": "markdown",
   "metadata": {},
   "source": [
    "# Menambahkan beberapa atribut turunan agar bisa diolah"
   ]
  },
  {
   "cell_type": "code",
   "execution_count": 29,
   "metadata": {},
   "outputs": [],
   "source": [
    "# insert derived attr (age) terhitung dari tahun sekarang(tahun data dikeluarkan)-tahun mobil\n",
    "data.insert(0, \"Age\", 2018-data[[\"Year\"]])\n",
    "# insert derived attr (Kms_Driven/2000)\n",
    "data.insert(0, \"Kms_Driven/2000\", data[[\"Kms_Driven\"]]/2000)\n",
    "# insert derived attribut (fuel)\n",
    "# Petrol -> 0\n",
    "# Diesel -> 1\n",
    "# CNG -> 2\n",
    "data[\"fuel\"]=pd.factorize(data.Fuel_Type)[0]\n",
    "# insert derived attr (seller)\n",
    "# Dealer -> 0\n",
    "# Individual -> 1\n",
    "data[\"seller\"]=pd.factorize(data.Seller_Type)[0]\n",
    "# insert derived attr (trans)\n",
    "# Manual -> 0\n",
    "# Automatic -> 1\n",
    "data[\"trans\"]=pd.factorize(data.Transmission)[0]\n"
   ]
  },
  {
   "cell_type": "markdown",
   "metadata": {},
   "source": [
    "# Split data 80% train data , 20% test data"
   ]
  },
  {
   "cell_type": "code",
   "execution_count": 30,
   "metadata": {},
   "outputs": [],
   "source": [
    "y = data[['Selling_Price']]\n",
    "x = data[['Age', 'Present_Price', 'Kms_Driven/2000','fuel','seller','trans','Owner']]\n",
    "\n",
    "# train 80% , test 20% of data\n",
    "x_train, x_test, y_train, y_test = train_test_split(x, y, test_size=0.2)"
   ]
  },
  {
   "cell_type": "markdown",
   "metadata": {},
   "source": [
    "# Mengolah Data Frame yang ada menjadi array yang bisa diolah"
   ]
  },
  {
   "cell_type": "code",
   "execution_count": 31,
   "metadata": {},
   "outputs": [],
   "source": [
    "# convert data x dan y menjadi matriks yang bisa diolah\n",
    "y_train_matrix = y_train.to_numpy(dtype='float')\n",
    "y_train_matrix = np.reshape(y_train_matrix, (-1, 1))\n",
    "y_test_matrix = y_test.to_numpy(dtype='float')\n",
    "x_train_matrix = x_train.to_numpy(dtype='float')\n",
    "x_test_matrix = x_test.to_numpy(dtype='float')\n",
    "# add 1 in column 0 buat x_train\n",
    "x_train_matrix_new = np.insert(x_train_matrix, 0, values=1, axis=1)\n",
    "x_test_matrix_new = np.insert(x_test_matrix, 0, values=1, axis=1)\n",
    "# koefisien buat garis regresi\n",
    "koef = koefRegression(x_train_matrix_new, y_train_matrix)\n"
   ]
  },
  {
   "cell_type": "markdown",
   "metadata": {},
   "source": [
    "# Akurasi Algoritma"
   ]
  },
  {
   "cell_type": "code",
   "execution_count": 32,
   "metadata": {},
   "outputs": [
    {
     "data": {
      "text/html": [
       "<div>\n",
       "<style scoped>\n",
       "    .dataframe tbody tr th:only-of-type {\n",
       "        vertical-align: middle;\n",
       "    }\n",
       "\n",
       "    .dataframe tbody tr th {\n",
       "        vertical-align: top;\n",
       "    }\n",
       "\n",
       "    .dataframe thead th {\n",
       "        text-align: right;\n",
       "    }\n",
       "</style>\n",
       "<table border=\"1\" class=\"dataframe\">\n",
       "  <thead>\n",
       "    <tr style=\"text-align: right;\">\n",
       "      <th></th>\n",
       "      <th>Selling_Price</th>\n",
       "      <th>Selling_Price_Reg</th>\n",
       "    </tr>\n",
       "  </thead>\n",
       "  <tbody>\n",
       "    <tr>\n",
       "      <th>175</th>\n",
       "      <td>0.38</td>\n",
       "      <td>-0.753790</td>\n",
       "    </tr>\n",
       "    <tr>\n",
       "      <th>234</th>\n",
       "      <td>5.50</td>\n",
       "      <td>4.423178</td>\n",
       "    </tr>\n",
       "    <tr>\n",
       "      <th>130</th>\n",
       "      <td>0.75</td>\n",
       "      <td>1.956622</td>\n",
       "    </tr>\n",
       "    <tr>\n",
       "      <th>65</th>\n",
       "      <td>4.75</td>\n",
       "      <td>5.959403</td>\n",
       "    </tr>\n",
       "    <tr>\n",
       "      <th>231</th>\n",
       "      <td>9.25</td>\n",
       "      <td>6.762651</td>\n",
       "    </tr>\n",
       "    <tr>\n",
       "      <th>96</th>\n",
       "      <td>20.75</td>\n",
       "      <td>16.585275</td>\n",
       "    </tr>\n",
       "    <tr>\n",
       "      <th>127</th>\n",
       "      <td>0.75</td>\n",
       "      <td>1.559092</td>\n",
       "    </tr>\n",
       "    <tr>\n",
       "      <th>6</th>\n",
       "      <td>6.75</td>\n",
       "      <td>5.405357</td>\n",
       "    </tr>\n",
       "    <tr>\n",
       "      <th>159</th>\n",
       "      <td>0.45</td>\n",
       "      <td>3.530316</td>\n",
       "    </tr>\n",
       "    <tr>\n",
       "      <th>63</th>\n",
       "      <td>23.50</td>\n",
       "      <td>20.725737</td>\n",
       "    </tr>\n",
       "    <tr>\n",
       "      <th>284</th>\n",
       "      <td>3.50</td>\n",
       "      <td>3.705419</td>\n",
       "    </tr>\n",
       "    <tr>\n",
       "      <th>270</th>\n",
       "      <td>4.10</td>\n",
       "      <td>4.403017</td>\n",
       "    </tr>\n",
       "    <tr>\n",
       "      <th>168</th>\n",
       "      <td>0.42</td>\n",
       "      <td>0.336450</td>\n",
       "    </tr>\n",
       "    <tr>\n",
       "      <th>171</th>\n",
       "      <td>0.40</td>\n",
       "      <td>1.062918</td>\n",
       "    </tr>\n",
       "    <tr>\n",
       "      <th>55</th>\n",
       "      <td>3.60</td>\n",
       "      <td>7.521894</td>\n",
       "    </tr>\n",
       "    <tr>\n",
       "      <th>247</th>\n",
       "      <td>5.95</td>\n",
       "      <td>5.873083</td>\n",
       "    </tr>\n",
       "    <tr>\n",
       "      <th>259</th>\n",
       "      <td>3.90</td>\n",
       "      <td>4.434146</td>\n",
       "    </tr>\n",
       "    <tr>\n",
       "      <th>209</th>\n",
       "      <td>4.85</td>\n",
       "      <td>5.929024</td>\n",
       "    </tr>\n",
       "    <tr>\n",
       "      <th>260</th>\n",
       "      <td>9.15</td>\n",
       "      <td>8.135832</td>\n",
       "    </tr>\n",
       "    <tr>\n",
       "      <th>292</th>\n",
       "      <td>6.40</td>\n",
       "      <td>5.952777</td>\n",
       "    </tr>\n",
       "    <tr>\n",
       "      <th>111</th>\n",
       "      <td>1.15</td>\n",
       "      <td>1.856287</td>\n",
       "    </tr>\n",
       "    <tr>\n",
       "      <th>84</th>\n",
       "      <td>3.49</td>\n",
       "      <td>4.495348</td>\n",
       "    </tr>\n",
       "    <tr>\n",
       "      <th>5</th>\n",
       "      <td>9.25</td>\n",
       "      <td>9.003856</td>\n",
       "    </tr>\n",
       "    <tr>\n",
       "      <th>286</th>\n",
       "      <td>5.65</td>\n",
       "      <td>5.644969</td>\n",
       "    </tr>\n",
       "    <tr>\n",
       "      <th>174</th>\n",
       "      <td>0.38</td>\n",
       "      <td>0.965955</td>\n",
       "    </tr>\n",
       "    <tr>\n",
       "      <th>140</th>\n",
       "      <td>0.60</td>\n",
       "      <td>0.434693</td>\n",
       "    </tr>\n",
       "    <tr>\n",
       "      <th>25</th>\n",
       "      <td>3.00</td>\n",
       "      <td>2.475636</td>\n",
       "    </tr>\n",
       "    <tr>\n",
       "      <th>150</th>\n",
       "      <td>0.50</td>\n",
       "      <td>-0.366077</td>\n",
       "    </tr>\n",
       "    <tr>\n",
       "      <th>237</th>\n",
       "      <td>11.25</td>\n",
       "      <td>9.134344</td>\n",
       "    </tr>\n",
       "    <tr>\n",
       "      <th>253</th>\n",
       "      <td>7.20</td>\n",
       "      <td>7.234237</td>\n",
       "    </tr>\n",
       "    <tr>\n",
       "      <th>297</th>\n",
       "      <td>4.00</td>\n",
       "      <td>4.212528</td>\n",
       "    </tr>\n",
       "    <tr>\n",
       "      <th>226</th>\n",
       "      <td>5.25</td>\n",
       "      <td>4.314745</td>\n",
       "    </tr>\n",
       "    <tr>\n",
       "      <th>18</th>\n",
       "      <td>3.25</td>\n",
       "      <td>7.180057</td>\n",
       "    </tr>\n",
       "    <tr>\n",
       "      <th>156</th>\n",
       "      <td>0.48</td>\n",
       "      <td>1.781972</td>\n",
       "    </tr>\n",
       "    <tr>\n",
       "      <th>41</th>\n",
       "      <td>2.55</td>\n",
       "      <td>3.055344</td>\n",
       "    </tr>\n",
       "    <tr>\n",
       "      <th>135</th>\n",
       "      <td>0.65</td>\n",
       "      <td>1.155195</td>\n",
       "    </tr>\n",
       "    <tr>\n",
       "      <th>252</th>\n",
       "      <td>5.40</td>\n",
       "      <td>6.462246</td>\n",
       "    </tr>\n",
       "    <tr>\n",
       "      <th>131</th>\n",
       "      <td>0.75</td>\n",
       "      <td>1.120372</td>\n",
       "    </tr>\n",
       "    <tr>\n",
       "      <th>48</th>\n",
       "      <td>5.80</td>\n",
       "      <td>5.187938</td>\n",
       "    </tr>\n",
       "    <tr>\n",
       "      <th>299</th>\n",
       "      <td>11.50</td>\n",
       "      <td>9.746670</td>\n",
       "    </tr>\n",
       "    <tr>\n",
       "      <th>195</th>\n",
       "      <td>0.18</td>\n",
       "      <td>0.810249</td>\n",
       "    </tr>\n",
       "    <tr>\n",
       "      <th>56</th>\n",
       "      <td>4.50</td>\n",
       "      <td>4.916619</td>\n",
       "    </tr>\n",
       "    <tr>\n",
       "      <th>181</th>\n",
       "      <td>0.30</td>\n",
       "      <td>1.188075</td>\n",
       "    </tr>\n",
       "    <tr>\n",
       "      <th>235</th>\n",
       "      <td>9.10</td>\n",
       "      <td>6.761899</td>\n",
       "    </tr>\n",
       "    <tr>\n",
       "      <th>167</th>\n",
       "      <td>0.42</td>\n",
       "      <td>0.598692</td>\n",
       "    </tr>\n",
       "    <tr>\n",
       "      <th>57</th>\n",
       "      <td>4.75</td>\n",
       "      <td>7.855715</td>\n",
       "    </tr>\n",
       "    <tr>\n",
       "      <th>95</th>\n",
       "      <td>5.85</td>\n",
       "      <td>8.544938</td>\n",
       "    </tr>\n",
       "    <tr>\n",
       "      <th>50</th>\n",
       "      <td>14.90</td>\n",
       "      <td>16.909389</td>\n",
       "    </tr>\n",
       "    <tr>\n",
       "      <th>133</th>\n",
       "      <td>0.72</td>\n",
       "      <td>1.659650</td>\n",
       "    </tr>\n",
       "    <tr>\n",
       "      <th>23</th>\n",
       "      <td>2.50</td>\n",
       "      <td>2.835447</td>\n",
       "    </tr>\n",
       "    <tr>\n",
       "      <th>70</th>\n",
       "      <td>3.95</td>\n",
       "      <td>5.736593</td>\n",
       "    </tr>\n",
       "    <tr>\n",
       "      <th>78</th>\n",
       "      <td>5.25</td>\n",
       "      <td>11.265542</td>\n",
       "    </tr>\n",
       "    <tr>\n",
       "      <th>189</th>\n",
       "      <td>0.20</td>\n",
       "      <td>-3.071620</td>\n",
       "    </tr>\n",
       "    <tr>\n",
       "      <th>106</th>\n",
       "      <td>1.35</td>\n",
       "      <td>1.111437</td>\n",
       "    </tr>\n",
       "    <tr>\n",
       "      <th>115</th>\n",
       "      <td>1.11</td>\n",
       "      <td>1.407505</td>\n",
       "    </tr>\n",
       "    <tr>\n",
       "      <th>212</th>\n",
       "      <td>11.25</td>\n",
       "      <td>8.171027</td>\n",
       "    </tr>\n",
       "    <tr>\n",
       "      <th>230</th>\n",
       "      <td>6.15</td>\n",
       "      <td>6.643164</td>\n",
       "    </tr>\n",
       "    <tr>\n",
       "      <th>187</th>\n",
       "      <td>0.25</td>\n",
       "      <td>0.132742</td>\n",
       "    </tr>\n",
       "    <tr>\n",
       "      <th>117</th>\n",
       "      <td>1.10</td>\n",
       "      <td>1.614478</td>\n",
       "    </tr>\n",
       "    <tr>\n",
       "      <th>257</th>\n",
       "      <td>8.50</td>\n",
       "      <td>7.687817</td>\n",
       "    </tr>\n",
       "    <tr>\n",
       "      <th>32</th>\n",
       "      <td>4.95</td>\n",
       "      <td>6.227943</td>\n",
       "    </tr>\n",
       "  </tbody>\n",
       "</table>\n",
       "</div>"
      ],
      "text/plain": [
       "     Selling_Price  Selling_Price_Reg\n",
       "175           0.38          -0.753790\n",
       "234           5.50           4.423178\n",
       "130           0.75           1.956622\n",
       "65            4.75           5.959403\n",
       "231           9.25           6.762651\n",
       "96           20.75          16.585275\n",
       "127           0.75           1.559092\n",
       "6             6.75           5.405357\n",
       "159           0.45           3.530316\n",
       "63           23.50          20.725737\n",
       "284           3.50           3.705419\n",
       "270           4.10           4.403017\n",
       "168           0.42           0.336450\n",
       "171           0.40           1.062918\n",
       "55            3.60           7.521894\n",
       "247           5.95           5.873083\n",
       "259           3.90           4.434146\n",
       "209           4.85           5.929024\n",
       "260           9.15           8.135832\n",
       "292           6.40           5.952777\n",
       "111           1.15           1.856287\n",
       "84            3.49           4.495348\n",
       "5             9.25           9.003856\n",
       "286           5.65           5.644969\n",
       "174           0.38           0.965955\n",
       "140           0.60           0.434693\n",
       "25            3.00           2.475636\n",
       "150           0.50          -0.366077\n",
       "237          11.25           9.134344\n",
       "253           7.20           7.234237\n",
       "297           4.00           4.212528\n",
       "226           5.25           4.314745\n",
       "18            3.25           7.180057\n",
       "156           0.48           1.781972\n",
       "41            2.55           3.055344\n",
       "135           0.65           1.155195\n",
       "252           5.40           6.462246\n",
       "131           0.75           1.120372\n",
       "48            5.80           5.187938\n",
       "299          11.50           9.746670\n",
       "195           0.18           0.810249\n",
       "56            4.50           4.916619\n",
       "181           0.30           1.188075\n",
       "235           9.10           6.761899\n",
       "167           0.42           0.598692\n",
       "57            4.75           7.855715\n",
       "95            5.85           8.544938\n",
       "50           14.90          16.909389\n",
       "133           0.72           1.659650\n",
       "23            2.50           2.835447\n",
       "70            3.95           5.736593\n",
       "78            5.25          11.265542\n",
       "189           0.20          -3.071620\n",
       "106           1.35           1.111437\n",
       "115           1.11           1.407505\n",
       "212          11.25           8.171027\n",
       "230           6.15           6.643164\n",
       "187           0.25           0.132742\n",
       "117           1.10           1.614478\n",
       "257           8.50           7.687817\n",
       "32            4.95           6.227943"
      ]
     },
     "execution_count": 32,
     "metadata": {},
     "output_type": "execute_result"
    }
   ],
   "source": [
    "# insert Selling_Price_Reg sebagai hasil dari perhitungan regresi linear\n",
    "y_reg=[]\n",
    "for i in range(len(x_test_matrix_new)):\n",
    "    # memanggil fungsi regresi\n",
    "    val_reg = multipleLinearRegression([x_test_matrix_new[i]], x_train_matrix_new, y_train_matrix)[0][0]\n",
    "    # insert val_reg ke array y_reg\n",
    "    y_reg.append(val_reg)\n",
    "    \n",
    "y_test['Selling_Price_Reg']=y_reg\n",
    "\n",
    "y_test"
   ]
  },
  {
   "cell_type": "markdown",
   "metadata": {},
   "source": [
    "# Menghitung dan Menganalisis Kualitas Regresi"
   ]
  },
  {
   "cell_type": "code",
   "execution_count": 33,
   "metadata": {},
   "outputs": [
    {
     "data": {
      "text/plain": [
       "0.8604766593498236"
      ]
     },
     "execution_count": 33,
     "metadata": {},
     "output_type": "execute_result"
    }
   ],
   "source": [
    "# yreal -> y_test_matrix\n",
    "# yestimate -> y_reg\n",
    "koefDeterminasi = kualitasRegresi(y_test_matrix,y_reg)\n",
    "koefDeterminasi\n",
    "# Jika koefDeterminasi mendekati 1 maka regresi nyaris sempurna\n",
    "# Jika koefDeterminasi = 0 maka garis regresi tidak fit"
   ]
  },
  {
   "cell_type": "markdown",
   "metadata": {},
   "source": [
    "# x=age dan y=selling price"
   ]
  },
  {
   "cell_type": "code",
   "execution_count": 34,
   "metadata": {},
   "outputs": [
    {
     "data": {
      "image/png": "[encoded data removed]",
      "text/plain": [
       "<Figure size 432x288 with 1 Axes>"
      ]
     },
     "metadata": {
      "needs_background": "light"
     },
     "output_type": "display_data"
    }
   ],
   "source": [
    "# plotting sesuai perhitungan garis regresi\n",
    "for i in range(len(x_test_matrix_new)):\n",
    "    plt.scatter(x_test_matrix[i][0], (multipleLinearRegression(\n",
    "        [x_test_matrix_new[i]], x_train_matrix_new, y_train_matrix))[0][0], c=\"Blue\")\n",
    "# plotting sesuai data yang ada\n",
    "plt.scatter(x_test[['Age']], y_test[['Selling_Price']], c='pink')\n",
    "# garis regresi untuk x=age\n",
    "yval1 = koef[0][0]+koef[1][0]*x_train[['Age']]\n",
    "plt.plot(x_train[['Age']], yval1, linestyle='-')\n",
    "plt.show()"
   ]
  },
  {
   "cell_type": "markdown",
   "metadata": {},
   "source": [
    "# x=present price dan y=selling price"
   ]
  },
  {
   "cell_type": "code",
   "execution_count": 35,
   "metadata": {},
   "outputs": [
    {
     "data": {
      "image/png": "[encoded data removed]",
      "text/plain": [
       "<Figure size 432x288 with 1 Axes>"
      ]
     },
     "metadata": {
      "needs_background": "light"
     },
     "output_type": "display_data"
    }
   ],
   "source": [
    "# plotting sesuai perhitungan garis regresi\n",
    "for i in range(len(x_test_matrix_new)):\n",
    "    plt.scatter(x_test_matrix[i][1], (multipleLinearRegression(\n",
    "        [x_test_matrix_new[i]], x_train_matrix_new, y_train_matrix))[0][0], c=\"Blue\")\n",
    "# plotting sesuai data yang ada\n",
    "plt.scatter(x_test[['Present_Price']], y_test[['Selling_Price']], c='pink')\n",
    "# garis regresi untuk x=present_price\n",
    "yval = koef[0][0]+koef[2][0]*x_train[['Present_Price']]\n",
    "plt.plot(x_train[['Present_Price']], yval, linestyle='-')\n",
    "plt.show()"
   ]
  },
  {
   "cell_type": "markdown",
   "metadata": {},
   "source": [
    "# x=Kms_Driven/2000 dan y=selling price"
   ]
  },
  {
   "cell_type": "code",
   "execution_count": 36,
   "metadata": {},
   "outputs": [
    {
     "data": {
      "image/png": "[encoded data removed]",
      "text/plain": [
       "<Figure size 432x288 with 1 Axes>"
      ]
     },
     "metadata": {
      "needs_background": "light"
     },
     "output_type": "display_data"
    }
   ],
   "source": [
    "# plotting sesuai perhitungan garis regresi\n",
    "for i in range(len(x_test_matrix_new)):\n",
    "    plt.scatter(x_test_matrix[i][2], (multipleLinearRegression(\n",
    "        [x_test_matrix_new[i]], x_train_matrix_new, y_train_matrix))[0][0], c=\"Blue\")\n",
    "# plotting sesuai data yang ada\n",
    "plt.scatter(x_test[['Kms_Driven/2000']], y_test[['Selling_Price']], c='pink')\n",
    "# garis regresi untuk x=Kms_Driven/2000\n",
    "yval2 = koef[0][0]+koef[3][0]*x_train[['Kms_Driven/2000']]\n",
    "plt.plot(x_train[['Kms_Driven/2000']], yval2, linestyle='-')\n",
    "plt.show()"
   ]
  },
  {
   "cell_type": "markdown",
   "metadata": {},
   "source": [
    "# x=fuel dan y=selling price"
   ]
  },
  {
   "cell_type": "code",
   "execution_count": 37,
   "metadata": {},
   "outputs": [
    {
     "data": {
      "image/png": "[encoded data removed]",
      "text/plain": [
       "<Figure size 432x288 with 1 Axes>"
      ]
     },
     "metadata": {
      "needs_background": "light"
     },
     "output_type": "display_data"
    }
   ],
   "source": [
    "# plotting sesuai perhitungan garis regresi\n",
    "for i in range(len(x_test_matrix_new)):\n",
    "    plt.scatter(x_test_matrix[i][3], (multipleLinearRegression(\n",
    "        [x_test_matrix_new[i]], x_train_matrix_new, y_train_matrix))[0][0], c=\"Blue\")\n",
    "# plotting sesuai data yang ada\n",
    "plt.scatter(x_test[['fuel']], y_test[['Selling_Price']], c='pink')\n",
    "# garis regresi untuk x=fuel\n",
    "yval3 = koef[0][0]+koef[4][0]*x_train[['fuel']]\n",
    "plt.plot(x_train[['fuel']], yval3, linestyle='-')\n",
    "plt.show()"
   ]
  },
  {
   "cell_type": "markdown",
   "metadata": {},
   "source": [
    "# x=seller dan y=selling price"
   ]
  },
  {
   "cell_type": "code",
   "execution_count": 38,
   "metadata": {},
   "outputs": [
    {
     "data": {
      "image/png": "[encoded data removed]",
      "text/plain": [
       "<Figure size 432x288 with 1 Axes>"
      ]
     },
     "metadata": {
      "needs_background": "light"
     },
     "output_type": "display_data"
    }
   ],
   "source": [
    "# plotting sesuai perhitungan garis regresi\n",
    "for i in range(len(x_test_matrix_new)):\n",
    "    plt.scatter(x_test_matrix[i][4], (multipleLinearRegression(\n",
    "        [x_test_matrix_new[i]], x_train_matrix_new, y_train_matrix))[0][0], c=\"Blue\")\n",
    "# plotting sesuai data yang ada\n",
    "plt.scatter(x_test[['seller']], y_test[['Selling_Price']], c='pink')\n",
    "# garis regresi untuk x=seller\n",
    "yval3 = koef[0][0]+koef[5][0]*x_train[['seller']]\n",
    "plt.plot(x_train[['seller']], yval3, linestyle='-')\n",
    "plt.show()"
   ]
  },
  {
   "cell_type": "markdown",
   "metadata": {},
   "source": [
    "# x=trans dan y=selling price"
   ]
  },
  {
   "cell_type": "code",
   "execution_count": 39,
   "metadata": {},
   "outputs": [
    {
     "data": {
      "image/png": "[encoded data removed]",
      "text/plain": [
       "<Figure size 432x288 with 1 Axes>"
      ]
     },
     "metadata": {
      "needs_background": "light"
     },
     "output_type": "display_data"
    }
   ],
   "source": [
    "# plotting sesuai perhitungan garis regresi\n",
    "for i in range(len(x_test_matrix_new)):\n",
    "    plt.scatter(x_test_matrix[i][5], (multipleLinearRegression(\n",
    "        [x_test_matrix_new[i]], x_train_matrix_new, y_train_matrix))[0][0], c=\"Blue\")\n",
    "# plotting sesuai data yang ada\n",
    "plt.scatter(x_test[['trans']], y_test[['Selling_Price']], c='pink')\n",
    "# garis regresi untuk x=trans\n",
    "yval3 = koef[0][0]+koef[6][0]*x_train[['trans']]\n",
    "plt.plot(x_train[['trans']], yval3, linestyle='-')\n",
    "plt.show()"
   ]
  },
  {
   "cell_type": "markdown",
   "metadata": {},
   "source": [
    "# x=Owner dan y=selling price"
   ]
  },
  {
   "cell_type": "code",
   "execution_count": 40,
   "metadata": {},
   "outputs": [
    {
     "data": {
      "image/png": "[encoded data removed]",
      "text/plain": [
       "<Figure size 432x288 with 1 Axes>"
      ]
     },
     "metadata": {
      "needs_background": "light"
     },
     "output_type": "display_data"
    }
   ],
   "source": [
    "# plotting sesuai perhitungan garis regresi\n",
    "for i in range(len(x_test_matrix_new)):\n",
    "    plt.scatter(x_test_matrix[i][6], (multipleLinearRegression(\n",
    "        [x_test_matrix_new[i]], x_train_matrix_new, y_train_matrix))[0][0], c=\"Blue\")\n",
    "# plotting sesuai data yang ada\n",
    "plt.scatter(x_test[['Owner']], y_test[['Selling_Price']], c='pink')\n",
    "# garis regresi untuk x=Owner\n",
    "yval3 = koef[0][0]+koef[7][0]*x_train[['Owner']]\n",
    "plt.plot(x_train[['Owner']], yval3, linestyle='-')\n",
    "plt.show()"
   ]
  },
  {
   "cell_type": "code",
   "execution_count": null,
   "metadata": {},
   "outputs": [],
   "source": []
  },
  {
   "cell_type": "code",
   "execution_count": null,
   "metadata": {},
   "outputs": [],
   "source": []
  },
  {
   "cell_type": "code",
   "execution_count": null,
   "metadata": {},
   "outputs": [],
   "source": []
  }
 ],
 "metadata": {
  "kernelspec": {
   "display_name": "Python 3",
   "language": "python",
   "name": "python3"
  },
  "language_info": {
   "codemirror_mode": {
    "name": "ipython",
    "version": 3
   },
   "file_extension": ".py",
   "mimetype": "text/x-python",
   "name": "python",
   "nbconvert_exporter": "python",
   "pygments_lexer": "ipython3",
   "version": "3.7.6"
  }
 },
 "nbformat": 4,
 "nbformat_minor": 4
}
