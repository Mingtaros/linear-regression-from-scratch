{
 "cells": [
  {
   "cell_type": "markdown",
   "metadata": {},
   "source": [
    "# Mengambil data dari csv"
   ]
  },
  {
   "cell_type": "code",
   "execution_count": 7,
   "metadata": {},
   "outputs": [],
   "source": [
    "import pandas as pd\n",
    "import matplotlib.pyplot as plt\n",
    "from sklearn.model_selection import train_test_split\n",
    "import numpy as np\n",
    "from regression import multipleLinearRegression, koefRegression\n",
    "pd.set_option('display.max_rows', None)\n",
    "# nampilin semua row\n",
    "pd.set_option('display.max_columns', None)\n",
    "# nampilin semua kolom\n",
    "pd.set_option('display.width', None)\n",
    "pd.set_option('mode.chained_assignment', None)\n",
    "\n",
    "data = pd.read_csv('car_dataset.csv', delimiter=\",\")"
   ]
  },
  {
   "cell_type": "markdown",
   "metadata": {},
   "source": [
    "# Mengubah beberapa data menjadi numeric"
   ]
  },
  {
   "cell_type": "code",
   "execution_count": 8,
   "metadata": {},
   "outputs": [],
   "source": [
    "# convert to numeric\n",
    "data[[\"Year\", \"Present_Price\", \"Selling_Price\", \"Kms_Driven\",\"Owner\"]] = data[[\n",
    "    \"Year\", \"Present_Price\", \"Selling_Price\", \"Kms_Driven\",\"Owner\"]].apply(pd.to_numeric)"
   ]
  },
  {
   "cell_type": "markdown",
   "metadata": {},
   "source": [
    "# Menambahkan beberapa atribut turunan agar bisa diolah"
   ]
  },
  {
   "cell_type": "code",
   "execution_count": 9,
   "metadata": {},
   "outputs": [],
   "source": [
    "# insert derived attr (age) terhitung dari tahun sekarang(tahun data dikeluarkan)-tahun mobil\n",
    "data.insert(0, \"Age\", 2018-data[[\"Year\"]])\n",
    "# insert derived attr (Kms_Driven/1000)\n",
    "data.insert(0, \"Kms_Driven/2000\", data[[\"Kms_Driven\"]]/2000)\n",
    "# insert derived attribut (fuel)\n",
    "# Petrol -> 0\n",
    "# Diesel -> 1\n",
    "# CNG -> 2\n",
    "data[\"fuel\"]=pd.factorize(data.Fuel_Type)[0]\n",
    "# insert derived attr (seller)\n",
    "# Dealer -> 0\n",
    "# Individual -> 1\n",
    "data[\"seller\"]=pd.factorize(data.Seller_Type)[0]\n",
    "# insert derived attr (trans)\n",
    "# Manual -> 0\n",
    "# Automatic -> 1\n",
    "data[\"trans\"]=pd.factorize(data.Transmission)[0]\n"
   ]
  },
  {
   "cell_type": "markdown",
   "metadata": {},
   "source": [
    "# Split data 80% train data , 20% test data"
   ]
  },
  {
   "cell_type": "code",
   "execution_count": 65,
   "metadata": {},
   "outputs": [],
   "source": [
    "y = data[['Selling_Price']]\n",
    "x = data[['Age', 'Present_Price', 'Kms_Driven/2000','fuel','seller','trans','Owner']]\n",
    "\n",
    "# train 80% , test 20% of data\n",
    "x_train, x_test, y_train, y_test = train_test_split(x, y, test_size=0.2)"
   ]
  },
  {
   "cell_type": "markdown",
   "metadata": {},
   "source": [
    "# Mengolah Data Frame yang ada menjadi array yang bisa diolah"
   ]
  },
  {
   "cell_type": "code",
   "execution_count": 66,
   "metadata": {},
   "outputs": [],
   "source": [
    "# convert data x dan y menjadi matriks yang bisa diolah\n",
    "y_train_matrix = y_train.to_numpy(dtype='float')\n",
    "y_train_matrix = np.reshape(y_train_matrix, (-1, 1))\n",
    "y_test_matrix = y_test.to_numpy(dtype='float')\n",
    "x_train_matrix = x_train.to_numpy(dtype='float')\n",
    "x_test_matrix = x_test.to_numpy(dtype='float')\n",
    "# add 1 in column 0 buat x_train\n",
    "x_train_matrix_new = np.insert(x_train_matrix, 0, values=1, axis=1)\n",
    "x_test_matrix_new = np.insert(x_test_matrix, 0, values=1, axis=1)\n",
    "# koefisien buat garis regresi\n",
    "koef = koefRegression(x_train_matrix_new, y_train_matrix)\n"
   ]
  },
  {
   "cell_type": "markdown",
   "metadata": {},
   "source": [
    "# Akurasi Algoritma"
   ]
  },
  {
   "cell_type": "code",
   "execution_count": 67,
   "metadata": {},
   "outputs": [
    {
     "data": {
      "text/html": [
       "<div>\n",
       "<style scoped>\n",
       "    .dataframe tbody tr th:only-of-type {\n",
       "        vertical-align: middle;\n",
       "    }\n",
       "\n",
       "    .dataframe tbody tr th {\n",
       "        vertical-align: top;\n",
       "    }\n",
       "\n",
       "    .dataframe thead th {\n",
       "        text-align: right;\n",
       "    }\n",
       "</style>\n",
       "<table border=\"1\" class=\"dataframe\">\n",
       "  <thead>\n",
       "    <tr style=\"text-align: right;\">\n",
       "      <th></th>\n",
       "      <th>Selling_Price</th>\n",
       "      <th>Selling_Price_Reg</th>\n",
       "    </tr>\n",
       "  </thead>\n",
       "  <tbody>\n",
       "    <tr>\n",
       "      <th>226</th>\n",
       "      <td>5.25</td>\n",
       "      <td>4.148767</td>\n",
       "    </tr>\n",
       "    <tr>\n",
       "      <th>234</th>\n",
       "      <td>5.50</td>\n",
       "      <td>4.290684</td>\n",
       "    </tr>\n",
       "    <tr>\n",
       "      <th>183</th>\n",
       "      <td>0.27</td>\n",
       "      <td>0.145660</td>\n",
       "    </tr>\n",
       "    <tr>\n",
       "      <th>58</th>\n",
       "      <td>4.10</td>\n",
       "      <td>3.159413</td>\n",
       "    </tr>\n",
       "    <tr>\n",
       "      <th>86</th>\n",
       "      <td>35.00</td>\n",
       "      <td>50.801888</td>\n",
       "    </tr>\n",
       "    <tr>\n",
       "      <th>80</th>\n",
       "      <td>14.73</td>\n",
       "      <td>10.642858</td>\n",
       "    </tr>\n",
       "    <tr>\n",
       "      <th>77</th>\n",
       "      <td>1.50</td>\n",
       "      <td>3.865119</td>\n",
       "    </tr>\n",
       "    <tr>\n",
       "      <th>253</th>\n",
       "      <td>7.20</td>\n",
       "      <td>7.011730</td>\n",
       "    </tr>\n",
       "    <tr>\n",
       "      <th>133</th>\n",
       "      <td>0.72</td>\n",
       "      <td>1.624786</td>\n",
       "    </tr>\n",
       "    <tr>\n",
       "      <th>16</th>\n",
       "      <td>7.25</td>\n",
       "      <td>7.902187</td>\n",
       "    </tr>\n",
       "    <tr>\n",
       "      <th>147</th>\n",
       "      <td>0.55</td>\n",
       "      <td>0.803000</td>\n",
       "    </tr>\n",
       "    <tr>\n",
       "      <th>102</th>\n",
       "      <td>1.65</td>\n",
       "      <td>2.413230</td>\n",
       "    </tr>\n",
       "    <tr>\n",
       "      <th>240</th>\n",
       "      <td>5.35</td>\n",
       "      <td>6.133073</td>\n",
       "    </tr>\n",
       "    <tr>\n",
       "      <th>161</th>\n",
       "      <td>0.45</td>\n",
       "      <td>0.684268</td>\n",
       "    </tr>\n",
       "    <tr>\n",
       "      <th>293</th>\n",
       "      <td>3.25</td>\n",
       "      <td>4.576750</td>\n",
       "    </tr>\n",
       "    <tr>\n",
       "      <th>193</th>\n",
       "      <td>0.20</td>\n",
       "      <td>-0.908961</td>\n",
       "    </tr>\n",
       "    <tr>\n",
       "      <th>272</th>\n",
       "      <td>7.50</td>\n",
       "      <td>6.490339</td>\n",
       "    </tr>\n",
       "    <tr>\n",
       "      <th>166</th>\n",
       "      <td>0.45</td>\n",
       "      <td>1.401539</td>\n",
       "    </tr>\n",
       "    <tr>\n",
       "      <th>134</th>\n",
       "      <td>0.65</td>\n",
       "      <td>1.825543</td>\n",
       "    </tr>\n",
       "    <tr>\n",
       "      <th>255</th>\n",
       "      <td>3.00</td>\n",
       "      <td>2.681317</td>\n",
       "    </tr>\n",
       "    <tr>\n",
       "      <th>31</th>\n",
       "      <td>2.35</td>\n",
       "      <td>2.067827</td>\n",
       "    </tr>\n",
       "    <tr>\n",
       "      <th>222</th>\n",
       "      <td>6.00</td>\n",
       "      <td>5.539946</td>\n",
       "    </tr>\n",
       "    <tr>\n",
       "      <th>282</th>\n",
       "      <td>8.25</td>\n",
       "      <td>9.158521</td>\n",
       "    </tr>\n",
       "    <tr>\n",
       "      <th>265</th>\n",
       "      <td>6.50</td>\n",
       "      <td>6.535421</td>\n",
       "    </tr>\n",
       "    <tr>\n",
       "      <th>187</th>\n",
       "      <td>0.25</td>\n",
       "      <td>0.090298</td>\n",
       "    </tr>\n",
       "    <tr>\n",
       "      <th>215</th>\n",
       "      <td>4.50</td>\n",
       "      <td>5.029659</td>\n",
       "    </tr>\n",
       "    <tr>\n",
       "      <th>94</th>\n",
       "      <td>4.00</td>\n",
       "      <td>11.347535</td>\n",
       "    </tr>\n",
       "    <tr>\n",
       "      <th>10</th>\n",
       "      <td>2.85</td>\n",
       "      <td>3.867880</td>\n",
       "    </tr>\n",
       "    <tr>\n",
       "      <th>59</th>\n",
       "      <td>19.99</td>\n",
       "      <td>22.144652</td>\n",
       "    </tr>\n",
       "    <tr>\n",
       "      <th>67</th>\n",
       "      <td>9.25</td>\n",
       "      <td>11.301384</td>\n",
       "    </tr>\n",
       "    <tr>\n",
       "      <th>137</th>\n",
       "      <td>0.65</td>\n",
       "      <td>0.354950</td>\n",
       "    </tr>\n",
       "    <tr>\n",
       "      <th>76</th>\n",
       "      <td>5.50</td>\n",
       "      <td>8.034830</td>\n",
       "    </tr>\n",
       "    <tr>\n",
       "      <th>41</th>\n",
       "      <td>2.55</td>\n",
       "      <td>2.691947</td>\n",
       "    </tr>\n",
       "    <tr>\n",
       "      <th>142</th>\n",
       "      <td>0.60</td>\n",
       "      <td>1.006884</td>\n",
       "    </tr>\n",
       "    <tr>\n",
       "      <th>190</th>\n",
       "      <td>0.20</td>\n",
       "      <td>-1.760254</td>\n",
       "    </tr>\n",
       "    <tr>\n",
       "      <th>35</th>\n",
       "      <td>2.95</td>\n",
       "      <td>5.816662</td>\n",
       "    </tr>\n",
       "    <tr>\n",
       "      <th>83</th>\n",
       "      <td>12.50</td>\n",
       "      <td>9.394753</td>\n",
       "    </tr>\n",
       "    <tr>\n",
       "      <th>175</th>\n",
       "      <td>0.38</td>\n",
       "      <td>-0.774063</td>\n",
       "    </tr>\n",
       "    <tr>\n",
       "      <th>249</th>\n",
       "      <td>5.25</td>\n",
       "      <td>5.603580</td>\n",
       "    </tr>\n",
       "    <tr>\n",
       "      <th>88</th>\n",
       "      <td>3.45</td>\n",
       "      <td>3.469883</td>\n",
       "    </tr>\n",
       "    <tr>\n",
       "      <th>61</th>\n",
       "      <td>4.50</td>\n",
       "      <td>5.135570</td>\n",
       "    </tr>\n",
       "    <tr>\n",
       "      <th>89</th>\n",
       "      <td>4.75</td>\n",
       "      <td>4.266227</td>\n",
       "    </tr>\n",
       "    <tr>\n",
       "      <th>92</th>\n",
       "      <td>3.51</td>\n",
       "      <td>4.618535</td>\n",
       "    </tr>\n",
       "    <tr>\n",
       "      <th>121</th>\n",
       "      <td>1.05</td>\n",
       "      <td>0.096383</td>\n",
       "    </tr>\n",
       "    <tr>\n",
       "      <th>259</th>\n",
       "      <td>3.90</td>\n",
       "      <td>4.425809</td>\n",
       "    </tr>\n",
       "    <tr>\n",
       "      <th>34</th>\n",
       "      <td>5.50</td>\n",
       "      <td>6.022056</td>\n",
       "    </tr>\n",
       "    <tr>\n",
       "      <th>60</th>\n",
       "      <td>6.95</td>\n",
       "      <td>10.418661</td>\n",
       "    </tr>\n",
       "    <tr>\n",
       "      <th>38</th>\n",
       "      <td>3.00</td>\n",
       "      <td>3.542815</td>\n",
       "    </tr>\n",
       "    <tr>\n",
       "      <th>49</th>\n",
       "      <td>7.75</td>\n",
       "      <td>7.516641</td>\n",
       "    </tr>\n",
       "    <tr>\n",
       "      <th>202</th>\n",
       "      <td>4.40</td>\n",
       "      <td>4.124006</td>\n",
       "    </tr>\n",
       "    <tr>\n",
       "      <th>93</th>\n",
       "      <td>23.00</td>\n",
       "      <td>19.569881</td>\n",
       "    </tr>\n",
       "    <tr>\n",
       "      <th>266</th>\n",
       "      <td>3.65</td>\n",
       "      <td>4.433219</td>\n",
       "    </tr>\n",
       "    <tr>\n",
       "      <th>101</th>\n",
       "      <td>1.70</td>\n",
       "      <td>2.453482</td>\n",
       "    </tr>\n",
       "    <tr>\n",
       "      <th>136</th>\n",
       "      <td>0.65</td>\n",
       "      <td>0.886202</td>\n",
       "    </tr>\n",
       "    <tr>\n",
       "      <th>235</th>\n",
       "      <td>9.10</td>\n",
       "      <td>6.962549</td>\n",
       "    </tr>\n",
       "    <tr>\n",
       "      <th>296</th>\n",
       "      <td>9.50</td>\n",
       "      <td>8.758315</td>\n",
       "    </tr>\n",
       "    <tr>\n",
       "      <th>114</th>\n",
       "      <td>1.15</td>\n",
       "      <td>1.437327</td>\n",
       "    </tr>\n",
       "    <tr>\n",
       "      <th>73</th>\n",
       "      <td>2.65</td>\n",
       "      <td>2.597017</td>\n",
       "    </tr>\n",
       "    <tr>\n",
       "      <th>100</th>\n",
       "      <td>1.75</td>\n",
       "      <td>2.129072</td>\n",
       "    </tr>\n",
       "    <tr>\n",
       "      <th>220</th>\n",
       "      <td>3.50</td>\n",
       "      <td>4.068244</td>\n",
       "    </tr>\n",
       "    <tr>\n",
       "      <th>162</th>\n",
       "      <td>0.45</td>\n",
       "      <td>0.119902</td>\n",
       "    </tr>\n",
       "  </tbody>\n",
       "</table>\n",
       "</div>"
      ],
      "text/plain": [
       "     Selling_Price  Selling_Price_Reg\n",
       "226           5.25           4.148767\n",
       "234           5.50           4.290684\n",
       "183           0.27           0.145660\n",
       "58            4.10           3.159413\n",
       "86           35.00          50.801888\n",
       "80           14.73          10.642858\n",
       "77            1.50           3.865119\n",
       "253           7.20           7.011730\n",
       "133           0.72           1.624786\n",
       "16            7.25           7.902187\n",
       "147           0.55           0.803000\n",
       "102           1.65           2.413230\n",
       "240           5.35           6.133073\n",
       "161           0.45           0.684268\n",
       "293           3.25           4.576750\n",
       "193           0.20          -0.908961\n",
       "272           7.50           6.490339\n",
       "166           0.45           1.401539\n",
       "134           0.65           1.825543\n",
       "255           3.00           2.681317\n",
       "31            2.35           2.067827\n",
       "222           6.00           5.539946\n",
       "282           8.25           9.158521\n",
       "265           6.50           6.535421\n",
       "187           0.25           0.090298\n",
       "215           4.50           5.029659\n",
       "94            4.00          11.347535\n",
       "10            2.85           3.867880\n",
       "59           19.99          22.144652\n",
       "67            9.25          11.301384\n",
       "137           0.65           0.354950\n",
       "76            5.50           8.034830\n",
       "41            2.55           2.691947\n",
       "142           0.60           1.006884\n",
       "190           0.20          -1.760254\n",
       "35            2.95           5.816662\n",
       "83           12.50           9.394753\n",
       "175           0.38          -0.774063\n",
       "249           5.25           5.603580\n",
       "88            3.45           3.469883\n",
       "61            4.50           5.135570\n",
       "89            4.75           4.266227\n",
       "92            3.51           4.618535\n",
       "121           1.05           0.096383\n",
       "259           3.90           4.425809\n",
       "34            5.50           6.022056\n",
       "60            6.95          10.418661\n",
       "38            3.00           3.542815\n",
       "49            7.75           7.516641\n",
       "202           4.40           4.124006\n",
       "93           23.00          19.569881\n",
       "266           3.65           4.433219\n",
       "101           1.70           2.453482\n",
       "136           0.65           0.886202\n",
       "235           9.10           6.962549\n",
       "296           9.50           8.758315\n",
       "114           1.15           1.437327\n",
       "73            2.65           2.597017\n",
       "100           1.75           2.129072\n",
       "220           3.50           4.068244\n",
       "162           0.45           0.119902"
      ]
     },
     "execution_count": 67,
     "metadata": {},
     "output_type": "execute_result"
    }
   ],
   "source": [
    "# insert Selling_Price_Reg sebagai hasil dari perhitungan regresi linear\n",
    "y_reg=[]\n",
    "for i in range(len(x_test_matrix_new)):\n",
    "    # memanggil fungsi regresi\n",
    "    val_reg = multipleLinearRegression([x_test_matrix_new[i]], x_train_matrix_new, y_train_matrix)[0][0]\n",
    "    # insert val_reg ke array y_reg\n",
    "    y_reg.append(val_reg)\n",
    "    \n",
    "y_test['Selling_Price_Reg']=y_reg\n",
    "\n",
    "y_test"
   ]
  },
  {
   "cell_type": "markdown",
   "metadata": {},
   "source": [
    "# x=age dan y=selling price"
   ]
  },
  {
   "cell_type": "code",
   "execution_count": 31,
   "metadata": {},
   "outputs": [
    {
     "data": {
      "image/png": "[encoded data removed]",
      "text/plain": [
       "<Figure size 432x288 with 1 Axes>"
      ]
     },
     "metadata": {
      "needs_background": "light"
     },
     "output_type": "display_data"
    }
   ],
   "source": [
    "# plotting sesuai perhitungan garis regresi\n",
    "for i in range(len(x_test_matrix_new)):\n",
    "    plt.scatter(x_test_matrix[i][0], (multipleLinearRegression(\n",
    "        [x_test_matrix_new[i]], x_train_matrix_new, y_train_matrix))[0][0], c=\"Blue\")\n",
    "# plotting sesuai data yang ada\n",
    "plt.scatter(x_test[['Age']], y_test, c='pink')\n",
    "# garis regresi untuk x=age\n",
    "yval1 = koef[0][0]+koef[1][0]*x_train[['Age']]\n",
    "plt.plot(x_train[['Age']], yval1, linestyle='-')\n",
    "plt.show()"
   ]
  },
  {
   "cell_type": "markdown",
   "metadata": {},
   "source": [
    "# x=present price dan y=selling price"
   ]
  },
  {
   "cell_type": "code",
   "execution_count": 32,
   "metadata": {},
   "outputs": [
    {
     "data": {
      "image/png": "[encoded data removed]",
      "text/plain": [
       "<Figure size 432x288 with 1 Axes>"
      ]
     },
     "metadata": {
      "needs_background": "light"
     },
     "output_type": "display_data"
    }
   ],
   "source": [
    "# plotting sesuai perhitungan garis regresi\n",
    "for i in range(len(x_test_matrix_new)):\n",
    "    plt.scatter(x_test_matrix[i][1], (multipleLinearRegression(\n",
    "        [x_test_matrix_new[i]], x_train_matrix_new, y_train_matrix))[0][0], c=\"Blue\")\n",
    "# plotting sesuai data yang ada\n",
    "plt.scatter(x_test[['Present_Price']], y_test, c='pink')\n",
    "# garis regresi untuk x=present_price\n",
    "yval = koef[0][0]+koef[2][0]*x_train[['Present_Price']]\n",
    "plt.plot(x_train[['Present_Price']], yval, linestyle='-')\n",
    "plt.show()"
   ]
  },
  {
   "cell_type": "markdown",
   "metadata": {},
   "source": [
    "# x=Kms_Driven/2000 dan y=selling price"
   ]
  },
  {
   "cell_type": "code",
   "execution_count": 33,
   "metadata": {},
   "outputs": [
    {
     "data": {
      "image/png": "[encoded data removed]",
      "text/plain": [
       "<Figure size 432x288 with 1 Axes>"
      ]
     },
     "metadata": {
      "needs_background": "light"
     },
     "output_type": "display_data"
    }
   ],
   "source": [
    "# plotting sesuai perhitungan garis regresi\n",
    "for i in range(len(x_test_matrix_new)):\n",
    "    plt.scatter(x_test_matrix[i][2], (multipleLinearRegression(\n",
    "        [x_test_matrix_new[i]], x_train_matrix_new, y_train_matrix))[0][0], c=\"Blue\")\n",
    "# plotting sesuai data yang ada\n",
    "plt.scatter(x_test[['Kms_Driven/2000']], y_test, c='pink')\n",
    "# garis regresi untuk x=Kms_Driven/2000\n",
    "yval2 = koef[0][0]+koef[3][0]*x_train[['Kms_Driven/2000']]\n",
    "plt.plot(x_train[['Kms_Driven/2000']], yval2, linestyle='-')\n",
    "plt.show()"
   ]
  },
  {
   "cell_type": "markdown",
   "metadata": {},
   "source": [
    "# x=fuel dan y=selling price"
   ]
  },
  {
   "cell_type": "code",
   "execution_count": 34,
   "metadata": {},
   "outputs": [
    {
     "data": {
      "image/png": "[encoded data removed]",
      "text/plain": [
       "<Figure size 432x288 with 1 Axes>"
      ]
     },
     "metadata": {
      "needs_background": "light"
     },
     "output_type": "display_data"
    }
   ],
   "source": [
    "# plotting sesuai perhitungan garis regresi\n",
    "for i in range(len(x_test_matrix_new)):\n",
    "    plt.scatter(x_test_matrix[i][3], (multipleLinearRegression(\n",
    "        [x_test_matrix_new[i]], x_train_matrix_new, y_train_matrix))[0][0], c=\"Blue\")\n",
    "# plotting sesuai data yang ada\n",
    "plt.scatter(x_test[['fuel']], y_test, c='pink')\n",
    "# garis regresi untuk x=fuel\n",
    "yval3 = koef[0][0]+koef[4][0]*x_train[['fuel']]\n",
    "plt.plot(x_train[['fuel']], yval3, linestyle='-')\n",
    "plt.show()"
   ]
  },
  {
   "cell_type": "markdown",
   "metadata": {},
   "source": [
    "# x=seller dan y=selling price"
   ]
  },
  {
   "cell_type": "code",
   "execution_count": 35,
   "metadata": {},
   "outputs": [
    {
     "data": {
      "image/png": "[encoded data removed]",
      "text/plain": [
       "<Figure size 432x288 with 1 Axes>"
      ]
     },
     "metadata": {
      "needs_background": "light"
     },
     "output_type": "display_data"
    }
   ],
   "source": [
    "# plotting sesuai perhitungan garis regresi\n",
    "for i in range(len(x_test_matrix_new)):\n",
    "    plt.scatter(x_test_matrix[i][4], (multipleLinearRegression(\n",
    "        [x_test_matrix_new[i]], x_train_matrix_new, y_train_matrix))[0][0], c=\"Blue\")\n",
    "# plotting sesuai data yang ada\n",
    "plt.scatter(x_test[['seller']], y_test, c='pink')\n",
    "# garis regresi untuk x=seller\n",
    "yval3 = koef[0][0]+koef[5][0]*x_train[['seller']]\n",
    "plt.plot(x_train[['seller']], yval3, linestyle='-')\n",
    "plt.show()"
   ]
  },
  {
   "cell_type": "markdown",
   "metadata": {},
   "source": [
    "# x=trans dan y=selling price"
   ]
  },
  {
   "cell_type": "code",
   "execution_count": 36,
   "metadata": {},
   "outputs": [
    {
     "data": {
      "image/png": "[encoded data removed]",
      "text/plain": [
       "<Figure size 432x288 with 1 Axes>"
      ]
     },
     "metadata": {
      "needs_background": "light"
     },
     "output_type": "display_data"
    }
   ],
   "source": [
    "# plotting sesuai perhitungan garis regresi\n",
    "for i in range(len(x_test_matrix_new)):\n",
    "    plt.scatter(x_test_matrix[i][5], (multipleLinearRegression(\n",
    "        [x_test_matrix_new[i]], x_train_matrix_new, y_train_matrix))[0][0], c=\"Blue\")\n",
    "# plotting sesuai data yang ada\n",
    "plt.scatter(x_test[['trans']], y_test, c='pink')\n",
    "# garis regresi untuk x=trans\n",
    "yval3 = koef[0][0]+koef[6][0]*x_train[['trans']]\n",
    "plt.plot(x_train[['trans']], yval3, linestyle='-')\n",
    "plt.show()"
   ]
  },
  {
   "cell_type": "markdown",
   "metadata": {},
   "source": [
    "# x=Owner dan y=selling price"
   ]
  },
  {
   "cell_type": "code",
   "execution_count": 38,
   "metadata": {},
   "outputs": [
    {
     "data": {
      "image/png": "[encoded data removed]",
      "text/plain": [
       "<Figure size 432x288 with 1 Axes>"
      ]
     },
     "metadata": {
      "needs_background": "light"
     },
     "output_type": "display_data"
    }
   ],
   "source": [
    "# plotting sesuai perhitungan garis regresi\n",
    "for i in range(len(x_test_matrix_new)):\n",
    "    plt.scatter(x_test_matrix[i][6], (multipleLinearRegression(\n",
    "        [x_test_matrix_new[i]], x_train_matrix_new, y_train_matrix))[0][0], c=\"Blue\")\n",
    "# plotting sesuai data yang ada\n",
    "plt.scatter(x_test[['Owner']], y_test, c='pink')\n",
    "# garis regresi untuk x=Owner\n",
    "yval3 = koef[0][0]+koef[7][0]*x_train[['Owner']]\n",
    "plt.plot(x_train[['Owner']], yval3, linestyle='-')\n",
    "plt.show()"
   ]
  },
  {
   "cell_type": "code",
   "execution_count": null,
   "metadata": {},
   "outputs": [],
   "source": []
  }
 ],
 "metadata": {
  "kernelspec": {
   "display_name": "Python 3",
   "language": "python",
   "name": "python3"
  },
  "language_info": {
   "codemirror_mode": {
    "name": "ipython",
    "version": 3
   },
   "file_extension": ".py",
   "mimetype": "text/x-python",
   "name": "python",
   "nbconvert_exporter": "python",
   "pygments_lexer": "ipython3",
   "version": "3.7.6"
  }
 },
 "nbformat": 4,
 "nbformat_minor": 4
}
